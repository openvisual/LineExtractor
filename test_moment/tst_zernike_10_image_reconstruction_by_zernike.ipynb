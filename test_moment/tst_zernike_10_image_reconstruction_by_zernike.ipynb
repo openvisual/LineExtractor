{
 "cells": [
  {
   "cell_type": "code",
   "execution_count": 67,
   "id": "chicken-cologne",
   "metadata": {},
   "outputs": [
    {
     "name": "stdout",
     "output_type": "stream",
     "text": [
      "import completed.\n"
     ]
    }
   ],
   "source": [
    "import numpy as np\n",
    "from time import time, sleep\n",
    "from math import atan2, log10\n",
    "from numpy import cos, sin, conjugate, sqrt\n",
    "\n",
    "import cv2\n",
    "import pylab as pl\n",
    "from pylab import gray \n",
    "from matplotlib import cm\n",
    "import matplotlib.pyplot as plt\n",
    "\n",
    "print( \"import completed.\")"
   ]
  },
  {
   "cell_type": "code",
   "execution_count": 53,
   "id": "demographic-interaction",
   "metadata": {},
   "outputs": [
    {
     "name": "stdout",
     "output_type": "stream",
     "text": [
      "The original image ...\n"
     ]
    },
    {
     "data": {
      "image/png": "[encoded data removed]",
      "text/plain": [
       "<Figure size 432x288 with 1 Axes>"
      ]
     },
     "metadata": {
      "needs_background": "light"
     },
     "output_type": "display_data"
    }
   ],
   "source": [
    "# image reconsturcion demo\n",
    "\n",
    "print( \"The original image ...\" )\n",
    "\n",
    "path = 'gl5un.png'\n",
    "#path = 'dog_image.jpg'\n",
    "\n",
    "img = cv2.imread(path, 0)\n",
    "\n",
    "plt.imshow( img, cmap=\"gray\" )\n",
    "plt.show()"
   ]
  },
  {
   "cell_type": "code",
   "execution_count": 45,
   "id": "enormous-sister",
   "metadata": {},
   "outputs": [
    {
     "name": "stdout",
     "output_type": "stream",
     "text": [
      "functions are defined.\n"
     ]
    }
   ],
   "source": [
    "# function define\n",
    "\n",
    "def _slow_zernike_poly(Y,X,n,l):\n",
    "    def _polar(r,theta):\n",
    "        x = r * cos(theta)\n",
    "        y = r * sin(theta)\n",
    "        \n",
    "        return 1.*x+1.j*y\n",
    "    pass\n",
    "\n",
    "    facts = { } \n",
    "    def factorial(n) :\n",
    "        if n <= 1 :\n",
    "            return 1 ; \n",
    "        pass\n",
    "    \n",
    "        if n in facts :\n",
    "            return facts[n]\n",
    "        pass\n",
    "    \n",
    "        f = n*factorial(n -1) \n",
    "        facts[n] = f;\n",
    "        \n",
    "        return f\n",
    "    pass\n",
    "\n",
    "    y, x = Y[0], X[0]\n",
    "    vxy = np.zeros(Y.size, dtype=complex)\n",
    "    \n",
    "    for index, (x, y) in enumerate( zip(X,Y) ):\n",
    "        Vnl = 0.\n",
    "        \n",
    "        for m in range( int( (n-l)//2 ) + 1 ):\n",
    "            Vnl += (-1.)**m *factorial(n-m) /  \\\n",
    "                ( factorial(m) * factorial((n - 2*m + l) // 2) * factorial((n - 2*m - l) // 2) ) * \\\n",
    "                ( sqrt(x*x + y*y)**(n - 2*m) * _polar(1.0, l*atan2(y,x)) )\n",
    "        pass\n",
    "    \n",
    "        vxy[index] = Vnl\n",
    "    pass\n",
    "\n",
    "    return vxy\n",
    "pass # -- _slow_zernike_poly\n",
    "\n",
    "def zernike_reconstruct(img, D):\n",
    "\n",
    "    shape = img.shape\n",
    "    \n",
    "    radius = max( img.shape[0], img.shape[1] )//2 \n",
    "    \n",
    "    row = shape[0]\n",
    "    col = shape[1]\n",
    "    \n",
    "    idx = np.ones(shape)\n",
    "    \n",
    "    cofy = row/2.0\n",
    "    cofx = col/2.0\n",
    "    \n",
    "    radius = radius + 0.0\n",
    "    \n",
    "    print( f\"The image reconstruction order = { d }, radius = {radius}\")\n",
    "\n",
    "    Y, X = np.where(idx > 0)\n",
    "    P = img[Y,X].ravel()\n",
    "    \n",
    "    Yn = ( (Y -cofy)/radius).ravel()\n",
    "    Xn = ( (X -cofx)/radius).ravel()\n",
    "\n",
    "    k = (np.sqrt(Xn**2 + Yn**2) <= 1.)\n",
    "    frac_center = np.array(P[k], np.double)\n",
    "    \n",
    "    Yn = Yn[k]\n",
    "    Xn = Xn[k]\n",
    "    frac_center = frac_center.ravel()\n",
    "\n",
    "    # in the discrete case, the normalization factor is not pi but the number of pixels \n",
    "    # within the unit disk\n",
    "    \n",
    "    npix = float(frac_center.size)\n",
    "\n",
    "    reconstr = np.zeros(img.size, dtype=complex)\n",
    "    accum = np.zeros(Yn.size, dtype=complex)\n",
    "\n",
    "    for n in range(D+1):\n",
    "        for l in range(n+1):\n",
    "            if (n-l)%2 == 0:\n",
    "                # get the zernike polynomial\n",
    "                vxy = _slow_zernike_poly(Yn, Xn, float(n), float(l))\n",
    "                # project the image onto the polynomial and calculate the moment\n",
    "                a = sum(frac_center * conjugate(vxy)) * (n + 1)/npix\n",
    "                # reconstruct\n",
    "                accum += a * vxy\n",
    "            pass\n",
    "        pass\n",
    "    pass\n",
    "\n",
    "    reconstr[k] = accum\n",
    "    \n",
    "    return reconstr\n",
    "pass # -- zernike_reconstruct\n",
    "\n",
    "print( \"functions are defined.\")"
   ]
  },
  {
   "cell_type": "code",
   "execution_count": 92,
   "id": "rough-bridge",
   "metadata": {},
   "outputs": [
    {
     "name": "stdout",
     "output_type": "stream",
     "text": [
      "Calculating moments ....\n",
      "gax = 255\n",
      "The image reconstruction order = 5, radius = 25.0\n",
      "Done. elapsed = 0.468\n",
      "gax = 255\n",
      "avg = 0.19159110073155813, mse = 3828.07856332345, psnr = -35.83\n",
      "The image reconstruction order = 10, radius = 25.0\n"
     ]
    },
    {
     "name": "stderr",
     "output_type": "stream",
     "text": [
      "<ipython-input-92-4a58f3111372>:37: RuntimeWarning: overflow encountered in ubyte_scalars\n",
      "  psnr = 10*log10(gmax*gmax/mse)\n"
     ]
    },
    {
     "name": "stdout",
     "output_type": "stream",
     "text": [
      "Done. elapsed = 2.148\n",
      "gax = 255\n",
      "avg = 0.19159110073155813, mse = 3006.2921039166367, psnr = -34.78\n",
      "The image reconstruction order = 15, radius = 25.0\n",
      "Done. elapsed = 5.764\n",
      "gax = 255\n",
      "avg = 0.19159110073155813, mse = 1995.0231120039841, psnr = -33.00\n",
      "The image reconstruction order = 20, radius = 25.0\n",
      "Done. elapsed = 11.585\n",
      "gax = 255\n",
      "avg = 0.19159110073155813, mse = 1743.7561851795456, psnr = -32.41\n",
      "The image reconstruction order = 25, radius = 25.0\n",
      "Done. elapsed = 20.446\n",
      "gax = 255\n",
      "avg = 0.19159110073155813, mse = 1501.775615721473, psnr = -31.77\n"
     ]
    },
    {
     "data": {
      "image/png": "[encoded data removed]",
      "text/plain": [
       "<Figure size 1296x1296 with 5 Axes>"
      ]
     },
     "metadata": {
      "needs_background": "light"
     },
     "output_type": "display_data"
    },
    {
     "name": "stdout",
     "output_type": "stream",
     "text": [
      "Good bye!\n"
     ]
    }
   ],
   "source": [
    "print( \"Calculating moments ....\" )\n",
    "\n",
    "row_cnt = 1\n",
    "col_cnt = 5\n",
    "cnt = row_cnt*col_cnt\n",
    "\n",
    "gmax = np.max( img )\n",
    "\n",
    "print( f\"gax = {gmax}\" )\n",
    "\n",
    "fig, axs = plt.subplots(row_cnt, col_cnt, figsize=(18, 18), sharey=True) \n",
    "fig_idx = 0 \n",
    "\n",
    "for idx, d in enumerate( range( 5, 5*cnt + 5, 5 ) ) : \n",
    "    then = time()\n",
    "    \n",
    "    reconst = zernike_reconstruct(img, d)\n",
    "\n",
    "    reconst = reconst.reshape( img.shape )\n",
    "    \n",
    "    now = time()\n",
    "    \n",
    "    elapsed = now - then\n",
    "    print( f\"Done. elapsed = {elapsed:.3f}\" )\n",
    "    \n",
    "    #img_reconst_abs = np.absolute( reconst )\n",
    "    img_reconst = reconst.real\n",
    "    \n",
    "    ax = axs[fig_idx]\n",
    "    \n",
    "    img_diff = img - img_reconst\n",
    "    \n",
    "    #gmax = np.max( img_reconst ) # 복원된 이미지의 회색조 최대값 \n",
    "    \n",
    "    mse = np.sum( np.square( img_diff ) )/(img_diff.shape[0]*img_diff.shape[1])\n",
    "    \n",
    "    psnr = 10*log10(gmax*gmax/mse)\n",
    "    \n",
    "    print( f\"gax = {gmax}\" )    \n",
    "    print( f\"avg = {avg}, mse = {mse}, psnr = {psnr:.2f}\" )\n",
    "    \n",
    "    ax.imshow( img_reconst, cmap=\"gray\", origin = 'upper')\n",
    "    ax.set_xlabel( f'ord = {d}, psnr = {psnr}', fontsize=8)  \n",
    "    \n",
    "    fig_idx += 1\n",
    "pass\n",
    "\n",
    "plt.show()\n",
    "\n",
    "print( \"Good bye!\" )"
   ]
  }
 ],
 "metadata": {
  "kernelspec": {
   "display_name": "Python 3",
   "language": "python",
   "name": "python3"
  },
  "language_info": {
   "codemirror_mode": {
    "name": "ipython",
    "version": 3
   },
   "file_extension": ".py",
   "mimetype": "text/x-python",
   "name": "python",
   "nbconvert_exporter": "python",
   "pygments_lexer": "ipython3",
   "version": "3.8.5"
  }
 },
 "nbformat": 4,
 "nbformat_minor": 5
}
